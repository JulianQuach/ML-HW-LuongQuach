{
 "cells": [
  {
   "cell_type": "markdown",
   "metadata": {},
   "source": [
    "# Phising Websites classification"
   ]
  },
  {
   "cell_type": "markdown",
   "metadata": {},
   "source": [
    "### In this project, I'm attempting to build the best model to classify Phishing vs Legitimate websites using classifiers that we have learned. The dataset can be found on [this link](https://www.openml.org/d/4534)"
   ]
  },
  {
   "cell_type": "code",
   "execution_count": 1,
   "metadata": {
    "_cell_guid": "cfdaacbc-23a3-423d-8d4d-120939ac7383",
    "_uuid": "123bbe4ab2ef45e1fbc4086e4bbcbf0145250dc3"
   },
   "outputs": [],
   "source": [
    "# numpy, matplotlib, pandas\n",
    "import numpy as np\n",
    "%matplotlib inline\n",
    "import pandas as pd\n",
    "\n",
    "from sklearn.model_selection import train_test_split\n",
    "from sklearn.model_selection import GridSearchCV\n",
    "\n",
    "from sklearn.metrics import accuracy_score, precision_score, recall_score"
   ]
  },
  {
   "cell_type": "markdown",
   "metadata": {},
   "source": [
    "#### Get dataset from PhishingWebsites.csv"
   ]
  },
  {
   "cell_type": "code",
   "execution_count": 2,
   "metadata": {
    "_cell_guid": "3ab4c525-a5cb-4183-9468-c1dd005c4c78",
    "_uuid": "f065df4e85301d3d692fc5a94d81b5a4dc80db08"
   },
   "outputs": [
    {
     "data": {
      "text/html": [
       "<div>\n",
       "<style scoped>\n",
       "    .dataframe tbody tr th:only-of-type {\n",
       "        vertical-align: middle;\n",
       "    }\n",
       "\n",
       "    .dataframe tbody tr th {\n",
       "        vertical-align: top;\n",
       "    }\n",
       "\n",
       "    .dataframe thead th {\n",
       "        text-align: right;\n",
       "    }\n",
       "</style>\n",
       "<table border=\"1\" class=\"dataframe\">\n",
       "  <thead>\n",
       "    <tr style=\"text-align: right;\">\n",
       "      <th></th>\n",
       "      <th>having_IP_Address</th>\n",
       "      <th>URL_Length</th>\n",
       "      <th>Shortining_Service</th>\n",
       "      <th>having_At_Symbol</th>\n",
       "      <th>double_slash_redirecting</th>\n",
       "      <th>Prefix_Suffix</th>\n",
       "      <th>having_Sub_Domain</th>\n",
       "      <th>SSLfinal_State</th>\n",
       "      <th>Domain_registeration_length</th>\n",
       "      <th>Favicon</th>\n",
       "      <th>...</th>\n",
       "      <th>popUpWidnow</th>\n",
       "      <th>Iframe</th>\n",
       "      <th>age_of_domain</th>\n",
       "      <th>DNSRecord</th>\n",
       "      <th>web_traffic</th>\n",
       "      <th>Page_Rank</th>\n",
       "      <th>Google_Index</th>\n",
       "      <th>Links_pointing_to_page</th>\n",
       "      <th>Statistical_report</th>\n",
       "      <th>Result</th>\n",
       "    </tr>\n",
       "  </thead>\n",
       "  <tbody>\n",
       "    <tr>\n",
       "      <th>0</th>\n",
       "      <td>-1</td>\n",
       "      <td>1</td>\n",
       "      <td>1</td>\n",
       "      <td>1</td>\n",
       "      <td>-1</td>\n",
       "      <td>-1</td>\n",
       "      <td>-1</td>\n",
       "      <td>-1</td>\n",
       "      <td>-1</td>\n",
       "      <td>1</td>\n",
       "      <td>...</td>\n",
       "      <td>1</td>\n",
       "      <td>1</td>\n",
       "      <td>-1</td>\n",
       "      <td>-1</td>\n",
       "      <td>-1</td>\n",
       "      <td>-1</td>\n",
       "      <td>1</td>\n",
       "      <td>1</td>\n",
       "      <td>-1</td>\n",
       "      <td>-1</td>\n",
       "    </tr>\n",
       "    <tr>\n",
       "      <th>1</th>\n",
       "      <td>1</td>\n",
       "      <td>1</td>\n",
       "      <td>1</td>\n",
       "      <td>1</td>\n",
       "      <td>1</td>\n",
       "      <td>-1</td>\n",
       "      <td>0</td>\n",
       "      <td>1</td>\n",
       "      <td>-1</td>\n",
       "      <td>1</td>\n",
       "      <td>...</td>\n",
       "      <td>1</td>\n",
       "      <td>1</td>\n",
       "      <td>-1</td>\n",
       "      <td>-1</td>\n",
       "      <td>0</td>\n",
       "      <td>-1</td>\n",
       "      <td>1</td>\n",
       "      <td>1</td>\n",
       "      <td>1</td>\n",
       "      <td>-1</td>\n",
       "    </tr>\n",
       "    <tr>\n",
       "      <th>2</th>\n",
       "      <td>1</td>\n",
       "      <td>0</td>\n",
       "      <td>1</td>\n",
       "      <td>1</td>\n",
       "      <td>1</td>\n",
       "      <td>-1</td>\n",
       "      <td>-1</td>\n",
       "      <td>-1</td>\n",
       "      <td>-1</td>\n",
       "      <td>1</td>\n",
       "      <td>...</td>\n",
       "      <td>1</td>\n",
       "      <td>1</td>\n",
       "      <td>1</td>\n",
       "      <td>-1</td>\n",
       "      <td>1</td>\n",
       "      <td>-1</td>\n",
       "      <td>1</td>\n",
       "      <td>0</td>\n",
       "      <td>-1</td>\n",
       "      <td>-1</td>\n",
       "    </tr>\n",
       "    <tr>\n",
       "      <th>3</th>\n",
       "      <td>1</td>\n",
       "      <td>0</td>\n",
       "      <td>1</td>\n",
       "      <td>1</td>\n",
       "      <td>1</td>\n",
       "      <td>-1</td>\n",
       "      <td>-1</td>\n",
       "      <td>-1</td>\n",
       "      <td>1</td>\n",
       "      <td>1</td>\n",
       "      <td>...</td>\n",
       "      <td>1</td>\n",
       "      <td>1</td>\n",
       "      <td>-1</td>\n",
       "      <td>-1</td>\n",
       "      <td>1</td>\n",
       "      <td>-1</td>\n",
       "      <td>1</td>\n",
       "      <td>-1</td>\n",
       "      <td>1</td>\n",
       "      <td>-1</td>\n",
       "    </tr>\n",
       "    <tr>\n",
       "      <th>4</th>\n",
       "      <td>1</td>\n",
       "      <td>0</td>\n",
       "      <td>-1</td>\n",
       "      <td>1</td>\n",
       "      <td>1</td>\n",
       "      <td>-1</td>\n",
       "      <td>1</td>\n",
       "      <td>1</td>\n",
       "      <td>-1</td>\n",
       "      <td>1</td>\n",
       "      <td>...</td>\n",
       "      <td>-1</td>\n",
       "      <td>1</td>\n",
       "      <td>-1</td>\n",
       "      <td>-1</td>\n",
       "      <td>0</td>\n",
       "      <td>-1</td>\n",
       "      <td>1</td>\n",
       "      <td>1</td>\n",
       "      <td>1</td>\n",
       "      <td>1</td>\n",
       "    </tr>\n",
       "  </tbody>\n",
       "</table>\n",
       "<p>5 rows × 31 columns</p>\n",
       "</div>"
      ],
      "text/plain": [
       "   having_IP_Address  URL_Length  Shortining_Service  having_At_Symbol  \\\n",
       "0                 -1           1                   1                 1   \n",
       "1                  1           1                   1                 1   \n",
       "2                  1           0                   1                 1   \n",
       "3                  1           0                   1                 1   \n",
       "4                  1           0                  -1                 1   \n",
       "\n",
       "   double_slash_redirecting  Prefix_Suffix  having_Sub_Domain  SSLfinal_State  \\\n",
       "0                        -1             -1                 -1              -1   \n",
       "1                         1             -1                  0               1   \n",
       "2                         1             -1                 -1              -1   \n",
       "3                         1             -1                 -1              -1   \n",
       "4                         1             -1                  1               1   \n",
       "\n",
       "   Domain_registeration_length  Favicon  ...  popUpWidnow  Iframe  \\\n",
       "0                           -1        1  ...            1       1   \n",
       "1                           -1        1  ...            1       1   \n",
       "2                           -1        1  ...            1       1   \n",
       "3                            1        1  ...            1       1   \n",
       "4                           -1        1  ...           -1       1   \n",
       "\n",
       "   age_of_domain  DNSRecord  web_traffic  Page_Rank  Google_Index  \\\n",
       "0             -1         -1           -1         -1             1   \n",
       "1             -1         -1            0         -1             1   \n",
       "2              1         -1            1         -1             1   \n",
       "3             -1         -1            1         -1             1   \n",
       "4             -1         -1            0         -1             1   \n",
       "\n",
       "   Links_pointing_to_page  Statistical_report  Result  \n",
       "0                       1                  -1      -1  \n",
       "1                       1                   1      -1  \n",
       "2                       0                  -1      -1  \n",
       "3                      -1                   1      -1  \n",
       "4                       1                   1       1  \n",
       "\n",
       "[5 rows x 31 columns]"
      ]
     },
     "execution_count": 2,
     "metadata": {},
     "output_type": "execute_result"
    }
   ],
   "source": [
    "phishingwebs = pd.read_csv(\"./PhishingWebsites.csv\")\n",
    "phishingwebs.head()"
   ]
  },
  {
   "cell_type": "code",
   "execution_count": 3,
   "metadata": {},
   "outputs": [
    {
     "name": "stdout",
     "output_type": "stream",
     "text": [
      "<class 'pandas.core.frame.DataFrame'>\n",
      "RangeIndex: 11055 entries, 0 to 11054\n",
      "Data columns (total 31 columns):\n",
      "having_IP_Address              11055 non-null int64\n",
      "URL_Length                     11055 non-null int64\n",
      "Shortining_Service             11055 non-null int64\n",
      "having_At_Symbol               11055 non-null int64\n",
      "double_slash_redirecting       11055 non-null int64\n",
      "Prefix_Suffix                  11055 non-null int64\n",
      "having_Sub_Domain              11055 non-null int64\n",
      "SSLfinal_State                 11055 non-null int64\n",
      "Domain_registeration_length    11055 non-null int64\n",
      "Favicon                        11055 non-null int64\n",
      "port                           11055 non-null int64\n",
      "HTTPS_token                    11055 non-null int64\n",
      "Request_URL                    11055 non-null int64\n",
      "URL_of_Anchor                  11055 non-null int64\n",
      "Links_in_tags                  11055 non-null int64\n",
      "SFH                            11055 non-null int64\n",
      "Submitting_to_email            11055 non-null int64\n",
      "Abnormal_URL                   11055 non-null int64\n",
      "Redirect                       11055 non-null int64\n",
      "on_mouseover                   11055 non-null int64\n",
      "RightClick                     11055 non-null int64\n",
      "popUpWidnow                    11055 non-null int64\n",
      "Iframe                         11055 non-null int64\n",
      "age_of_domain                  11055 non-null int64\n",
      "DNSRecord                      11055 non-null int64\n",
      "web_traffic                    11055 non-null int64\n",
      "Page_Rank                      11055 non-null int64\n",
      "Google_Index                   11055 non-null int64\n",
      "Links_pointing_to_page         11055 non-null int64\n",
      "Statistical_report             11055 non-null int64\n",
      "Result                         11055 non-null int64\n",
      "dtypes: int64(31)\n",
      "memory usage: 2.6 MB\n"
     ]
    }
   ],
   "source": [
    "phishingwebs.info()"
   ]
  },
  {
   "cell_type": "code",
   "execution_count": 4,
   "metadata": {},
   "outputs": [
    {
     "data": {
      "text/plain": [
       "having_IP_Address              0\n",
       "URL_Length                     0\n",
       "Shortining_Service             0\n",
       "having_At_Symbol               0\n",
       "double_slash_redirecting       0\n",
       "Prefix_Suffix                  0\n",
       "having_Sub_Domain              0\n",
       "SSLfinal_State                 0\n",
       "Domain_registeration_length    0\n",
       "Favicon                        0\n",
       "port                           0\n",
       "HTTPS_token                    0\n",
       "Request_URL                    0\n",
       "URL_of_Anchor                  0\n",
       "Links_in_tags                  0\n",
       "SFH                            0\n",
       "Submitting_to_email            0\n",
       "Abnormal_URL                   0\n",
       "Redirect                       0\n",
       "on_mouseover                   0\n",
       "RightClick                     0\n",
       "popUpWidnow                    0\n",
       "Iframe                         0\n",
       "age_of_domain                  0\n",
       "DNSRecord                      0\n",
       "web_traffic                    0\n",
       "Page_Rank                      0\n",
       "Google_Index                   0\n",
       "Links_pointing_to_page         0\n",
       "Statistical_report             0\n",
       "Result                         0\n",
       "dtype: int64"
      ]
     },
     "execution_count": 4,
     "metadata": {},
     "output_type": "execute_result"
    }
   ],
   "source": [
    "phishingwebs.isnull().sum()"
   ]
  },
  {
   "cell_type": "markdown",
   "metadata": {},
   "source": [
    "Build the training set"
   ]
  },
  {
   "cell_type": "code",
   "execution_count": 5,
   "metadata": {},
   "outputs": [],
   "source": [
    "y = phishingwebs.pop(\"Result\")\n",
    "X = phishingwebs"
   ]
  },
  {
   "cell_type": "code",
   "execution_count": 6,
   "metadata": {},
   "outputs": [
    {
     "data": {
      "image/png": "[encoded data removed]",
      "text/plain": [
       "<Figure size 1440x1080 with 30 Axes>"
      ]
     },
     "metadata": {
      "needs_background": "light"
     },
     "output_type": "display_data"
    }
   ],
   "source": [
    "import matplotlib.pyplot as plt\n",
    "phishingwebs.hist(bins=50, figsize=(20,15))\n",
    "plt.show()"
   ]
  },
  {
   "cell_type": "markdown",
   "metadata": {},
   "source": [
    "#### It's obvious that all the features are symbolic. However, I'm not going to use OneHotEncoding for this. The reason is they all have natural ordered (-1 or 0 for Negative and 1 for Possitive)"
   ]
  },
  {
   "cell_type": "code",
   "execution_count": 7,
   "metadata": {},
   "outputs": [],
   "source": [
    "X_train, X_test, y_train, y_test = train_test_split(X, y, test_size=0.2, random_state=42)"
   ]
  },
  {
   "cell_type": "markdown",
   "metadata": {},
   "source": [
    "#### Scale the input data to see if there is any difference"
   ]
  },
  {
   "cell_type": "code",
   "execution_count": 8,
   "metadata": {},
   "outputs": [],
   "source": [
    "from sklearn.preprocessing import StandardScaler\n",
    "\n",
    "sc = StandardScaler()\n",
    "sc.fit(X_train)\n",
    "X_train_std = sc.transform(X_train)\n",
    "X_test_std = sc.transform(X_test)"
   ]
  },
  {
   "cell_type": "markdown",
   "metadata": {},
   "source": [
    "### I'll try to build 3 models to see which one is better in detecting Phishing Websites: Support Vector Machine (SVM), Random Forests and Artificial Neural Network"
   ]
  },
  {
   "cell_type": "markdown",
   "metadata": {},
   "source": [
    "## Support Vector Machine (SVM)"
   ]
  },
  {
   "cell_type": "markdown",
   "metadata": {},
   "source": [
    "#### I'm going to use GridSearchCV to find the best SVM kernel for learning this dataset"
   ]
  },
  {
   "cell_type": "code",
   "execution_count": 9,
   "metadata": {},
   "outputs": [],
   "source": [
    "svm_param_grid = [{'kernel': ['linear', 'poly', 'rbf', 'sigmoid']}]"
   ]
  },
  {
   "cell_type": "code",
   "execution_count": 10,
   "metadata": {},
   "outputs": [],
   "source": [
    "from sklearn.svm import SVC\n",
    "\n",
    "svm = SVC(gamma='auto', kernel='rbf', random_state=42, probability=True)\n",
    "svm_clf = GridSearchCV(svm, svm_param_grid,\n",
    "                           scoring='accuracy',\n",
    "                           cv=5,\n",
    "                           verbose=1,\n",
    "                           n_jobs=-1)"
   ]
  },
  {
   "cell_type": "markdown",
   "metadata": {},
   "source": [
    "#### Let's try fitting the unscaled data and test its result"
   ]
  },
  {
   "cell_type": "code",
   "execution_count": 11,
   "metadata": {},
   "outputs": [
    {
     "name": "stdout",
     "output_type": "stream",
     "text": [
      "Fitting 5 folds for each of 4 candidates, totalling 20 fits\n"
     ]
    },
    {
     "name": "stderr",
     "output_type": "stream",
     "text": [
      "[Parallel(n_jobs=-1)]: Using backend LokyBackend with 12 concurrent workers.\n",
      "[Parallel(n_jobs=-1)]: Done  18 out of  20 | elapsed:   19.4s remaining:    2.1s\n",
      "[Parallel(n_jobs=-1)]: Done  20 out of  20 | elapsed:   19.5s finished\n"
     ]
    },
    {
     "data": {
      "text/plain": [
       "GridSearchCV(cv=5, error_score='raise-deprecating',\n",
       "             estimator=SVC(C=1.0, cache_size=200, class_weight=None, coef0=0.0,\n",
       "                           decision_function_shape='ovr', degree=3,\n",
       "                           gamma='auto', kernel='rbf', max_iter=-1,\n",
       "                           probability=True, random_state=42, shrinking=True,\n",
       "                           tol=0.001, verbose=False),\n",
       "             iid='warn', n_jobs=-1,\n",
       "             param_grid=[{'kernel': ['linear', 'poly', 'rbf', 'sigmoid']}],\n",
       "             pre_dispatch='2*n_jobs', refit=True, return_train_score=False,\n",
       "             scoring='accuracy', verbose=1)"
      ]
     },
     "execution_count": 11,
     "metadata": {},
     "output_type": "execute_result"
    }
   ],
   "source": [
    "svm_clf.fit(X_train, y_train)"
   ]
  },
  {
   "cell_type": "code",
   "execution_count": 12,
   "metadata": {},
   "outputs": [
    {
     "name": "stdout",
     "output_type": "stream",
     "text": [
      "Best parameter set: {'kernel': 'poly'} \n",
      "CV Accuracy: 0.947\n",
      "Test Accuracy: 0.949\n",
      "Accuracy score:  0.9488919041157847\n",
      "Precision score:  0.9453978159126365\n",
      "Recall score:  0.9657370517928286\n"
     ]
    }
   ],
   "source": [
    "print('Best parameter set: %s ' % svm_clf.best_params_)\n",
    "print('CV Accuracy: %.3f' % svm_clf.best_score_)\n",
    "y_predict = svm_clf.best_estimator_.predict(X_test)\n",
    "\n",
    "print('Test Accuracy: %.3f' % svm_clf.best_estimator_.score(X_test, y_test))\n",
    "print(\"Accuracy score: \", (accuracy_score(y_test, y_predict)))\n",
    "print(\"Precision score: \", (precision_score(y_test, y_predict)))\n",
    "print(\"Recall score: \", (recall_score(y_test, y_predict)))"
   ]
  },
  {
   "cell_type": "markdown",
   "metadata": {},
   "source": [
    "#### Now, let's try by using standardized data"
   ]
  },
  {
   "cell_type": "code",
   "execution_count": 13,
   "metadata": {},
   "outputs": [
    {
     "name": "stdout",
     "output_type": "stream",
     "text": [
      "Fitting 5 folds for each of 4 candidates, totalling 20 fits\n"
     ]
    },
    {
     "name": "stderr",
     "output_type": "stream",
     "text": [
      "[Parallel(n_jobs=-1)]: Using backend LokyBackend with 12 concurrent workers.\n",
      "[Parallel(n_jobs=-1)]: Done  18 out of  20 | elapsed:   18.5s remaining:    2.0s\n",
      "[Parallel(n_jobs=-1)]: Done  20 out of  20 | elapsed:   18.6s finished\n"
     ]
    },
    {
     "data": {
      "text/plain": [
       "GridSearchCV(cv=5, error_score='raise-deprecating',\n",
       "             estimator=SVC(C=1.0, cache_size=200, class_weight=None, coef0=0.0,\n",
       "                           decision_function_shape='ovr', degree=3,\n",
       "                           gamma='auto', kernel='rbf', max_iter=-1,\n",
       "                           probability=True, random_state=42, shrinking=True,\n",
       "                           tol=0.001, verbose=False),\n",
       "             iid='warn', n_jobs=-1,\n",
       "             param_grid=[{'kernel': ['linear', 'poly', 'rbf', 'sigmoid']}],\n",
       "             pre_dispatch='2*n_jobs', refit=True, return_train_score=False,\n",
       "             scoring='accuracy', verbose=1)"
      ]
     },
     "execution_count": 13,
     "metadata": {},
     "output_type": "execute_result"
    }
   ],
   "source": [
    "svm_clf.fit(X_train_std, y_train)"
   ]
  },
  {
   "cell_type": "code",
   "execution_count": 14,
   "metadata": {},
   "outputs": [
    {
     "name": "stdout",
     "output_type": "stream",
     "text": [
      "Best parameter set: {'kernel': 'rbf'} \n",
      "CV Accuracy: 0.950\n",
      "Test Accuracy: 0.953\n",
      "Accuracy score:  0.9525101763907734\n",
      "Precision score:  0.9464285714285714\n",
      "Recall score:  0.9713147410358566\n"
     ]
    }
   ],
   "source": [
    "print('Best parameter set: %s ' % svm_clf.best_params_)\n",
    "print('CV Accuracy: %.3f' % svm_clf.best_score_)\n",
    "print('Test Accuracy: %.3f' % svm_clf.best_estimator_.score(X_test_std, y_test))\n",
    "y_predict = svm_clf.best_estimator_.predict(X_test_std)\n",
    "\n",
    "print(\"Accuracy score: \", (accuracy_score(y_test, y_predict)))\n",
    "print(\"Precision score: \", (precision_score(y_test, y_predict)))\n",
    "print(\"Recall score: \", (recall_score(y_test, y_predict)))"
   ]
  },
  {
   "cell_type": "markdown",
   "metadata": {},
   "source": [
    "### The improvement of accuracy score is not significant, only 0.4% higher than unscaled data. The reason for this might be because that all the features are symbolic and just with in the range of -1 to 1."
   ]
  },
  {
   "cell_type": "markdown",
   "metadata": {},
   "source": [
    "## Random Forests"
   ]
  },
  {
   "cell_type": "markdown",
   "metadata": {},
   "source": [
    "#### I'll also use GridSearchCV for building Random Forests model"
   ]
  },
  {
   "cell_type": "code",
   "execution_count": 15,
   "metadata": {},
   "outputs": [],
   "source": [
    "rf_param_grid = [{'criterion' : ['gini', 'entropy'],\n",
    "                  }]"
   ]
  },
  {
   "cell_type": "code",
   "execution_count": 16,
   "metadata": {},
   "outputs": [],
   "source": [
    "from sklearn.ensemble import RandomForestClassifier\n",
    "\n",
    "rf = RandomForestClassifier(n_estimators=100, random_state=42, n_jobs=-1)\n"
   ]
  },
  {
   "cell_type": "code",
   "execution_count": 17,
   "metadata": {},
   "outputs": [],
   "source": [
    "rf_clf = GridSearchCV(rf, rf_param_grid,\n",
    "                           scoring='accuracy',\n",
    "                           cv=5,\n",
    "                           verbose=1,\n",
    "                           n_jobs=-1)"
   ]
  },
  {
   "cell_type": "code",
   "execution_count": 18,
   "metadata": {},
   "outputs": [
    {
     "name": "stdout",
     "output_type": "stream",
     "text": [
      "Fitting 5 folds for each of 2 candidates, totalling 10 fits\n"
     ]
    },
    {
     "name": "stderr",
     "output_type": "stream",
     "text": [
      "[Parallel(n_jobs=-1)]: Using backend LokyBackend with 12 concurrent workers.\n",
      "[Parallel(n_jobs=-1)]: Done  10 out of  10 | elapsed:    0.8s finished\n"
     ]
    },
    {
     "data": {
      "text/plain": [
       "GridSearchCV(cv=5, error_score='raise-deprecating',\n",
       "             estimator=RandomForestClassifier(bootstrap=True, class_weight=None,\n",
       "                                              criterion='gini', max_depth=None,\n",
       "                                              max_features='auto',\n",
       "                                              max_leaf_nodes=None,\n",
       "                                              min_impurity_decrease=0.0,\n",
       "                                              min_impurity_split=None,\n",
       "                                              min_samples_leaf=1,\n",
       "                                              min_samples_split=2,\n",
       "                                              min_weight_fraction_leaf=0.0,\n",
       "                                              n_estimators=100, n_jobs=-1,\n",
       "                                              oob_score=False, random_state=42,\n",
       "                                              verbose=0, warm_start=False),\n",
       "             iid='warn', n_jobs=-1,\n",
       "             param_grid=[{'criterion': ['gini', 'entropy']}],\n",
       "             pre_dispatch='2*n_jobs', refit=True, return_train_score=False,\n",
       "             scoring='accuracy', verbose=1)"
      ]
     },
     "execution_count": 18,
     "metadata": {},
     "output_type": "execute_result"
    }
   ],
   "source": [
    "rf_clf.fit(X_train, y_train)"
   ]
  },
  {
   "cell_type": "code",
   "execution_count": 19,
   "metadata": {},
   "outputs": [
    {
     "name": "stdout",
     "output_type": "stream",
     "text": [
      "Best parameter set: {'criterion': 'gini'} \n",
      "CV Accuracy: 0.970\n",
      "Test Accuracy: 0.967\n",
      "Accuracy score:  0.9669832654907282\n",
      "Precision score:  0.963166144200627\n",
      "Recall score:  0.9792828685258964\n"
     ]
    }
   ],
   "source": [
    "print('Best parameter set: %s ' % rf_clf.best_params_)\n",
    "print('CV Accuracy: %.3f' % rf_clf.best_score_)\n",
    "print('Test Accuracy: %.3f' % rf_clf.best_estimator_.score(X_test, y_test))\n",
    "y_predict = rf_clf.best_estimator_.predict(X_test)\n",
    "\n",
    "print(\"Accuracy score: \", (accuracy_score(y_test, y_predict)))\n",
    "print(\"Precision score: \", (precision_score(y_test, y_predict)))\n",
    "print(\"Recall score: \", (recall_score(y_test, y_predict)))"
   ]
  },
  {
   "cell_type": "markdown",
   "metadata": {},
   "source": [
    "### As you can see, the Accuracy score is higher when using Random Forests model (96.7%, compared to 95.3% of SVM)"
   ]
  },
  {
   "cell_type": "markdown",
   "metadata": {},
   "source": [
    "#### Features importance for building this model"
   ]
  },
  {
   "cell_type": "code",
   "execution_count": 20,
   "metadata": {},
   "outputs": [
    {
     "data": {
      "text/html": [
       "<div>\n",
       "<style scoped>\n",
       "    .dataframe tbody tr th:only-of-type {\n",
       "        vertical-align: middle;\n",
       "    }\n",
       "\n",
       "    .dataframe tbody tr th {\n",
       "        vertical-align: top;\n",
       "    }\n",
       "\n",
       "    .dataframe thead th {\n",
       "        text-align: right;\n",
       "    }\n",
       "</style>\n",
       "<table border=\"1\" class=\"dataframe\">\n",
       "  <thead>\n",
       "    <tr style=\"text-align: right;\">\n",
       "      <th></th>\n",
       "      <th>importance</th>\n",
       "    </tr>\n",
       "  </thead>\n",
       "  <tbody>\n",
       "    <tr>\n",
       "      <th>SSLfinal_State</th>\n",
       "      <td>0.326228</td>\n",
       "    </tr>\n",
       "    <tr>\n",
       "      <th>URL_of_Anchor</th>\n",
       "      <td>0.245541</td>\n",
       "    </tr>\n",
       "    <tr>\n",
       "      <th>web_traffic</th>\n",
       "      <td>0.069664</td>\n",
       "    </tr>\n",
       "    <tr>\n",
       "      <th>having_Sub_Domain</th>\n",
       "      <td>0.064523</td>\n",
       "    </tr>\n",
       "    <tr>\n",
       "      <th>Links_in_tags</th>\n",
       "      <td>0.043273</td>\n",
       "    </tr>\n",
       "    <tr>\n",
       "      <th>Prefix_Suffix</th>\n",
       "      <td>0.037831</td>\n",
       "    </tr>\n",
       "    <tr>\n",
       "      <th>SFH</th>\n",
       "      <td>0.020350</td>\n",
       "    </tr>\n",
       "    <tr>\n",
       "      <th>Request_URL</th>\n",
       "      <td>0.019330</td>\n",
       "    </tr>\n",
       "    <tr>\n",
       "      <th>Links_pointing_to_page</th>\n",
       "      <td>0.018834</td>\n",
       "    </tr>\n",
       "    <tr>\n",
       "      <th>Domain_registeration_length</th>\n",
       "      <td>0.017556</td>\n",
       "    </tr>\n",
       "    <tr>\n",
       "      <th>age_of_domain</th>\n",
       "      <td>0.015568</td>\n",
       "    </tr>\n",
       "    <tr>\n",
       "      <th>having_IP_Address</th>\n",
       "      <td>0.013943</td>\n",
       "    </tr>\n",
       "    <tr>\n",
       "      <th>Google_Index</th>\n",
       "      <td>0.013890</td>\n",
       "    </tr>\n",
       "    <tr>\n",
       "      <th>Page_Rank</th>\n",
       "      <td>0.012773</td>\n",
       "    </tr>\n",
       "    <tr>\n",
       "      <th>DNSRecord</th>\n",
       "      <td>0.012760</td>\n",
       "    </tr>\n",
       "    <tr>\n",
       "      <th>URL_Length</th>\n",
       "      <td>0.008650</td>\n",
       "    </tr>\n",
       "    <tr>\n",
       "      <th>HTTPS_token</th>\n",
       "      <td>0.006443</td>\n",
       "    </tr>\n",
       "    <tr>\n",
       "      <th>having_At_Symbol</th>\n",
       "      <td>0.005598</td>\n",
       "    </tr>\n",
       "    <tr>\n",
       "      <th>Statistical_report</th>\n",
       "      <td>0.005176</td>\n",
       "    </tr>\n",
       "    <tr>\n",
       "      <th>Redirect</th>\n",
       "      <td>0.005142</td>\n",
       "    </tr>\n",
       "    <tr>\n",
       "      <th>Submitting_to_email</th>\n",
       "      <td>0.005076</td>\n",
       "    </tr>\n",
       "    <tr>\n",
       "      <th>popUpWidnow</th>\n",
       "      <td>0.004862</td>\n",
       "    </tr>\n",
       "    <tr>\n",
       "      <th>Shortining_Service</th>\n",
       "      <td>0.004792</td>\n",
       "    </tr>\n",
       "    <tr>\n",
       "      <th>Abnormal_URL</th>\n",
       "      <td>0.004636</td>\n",
       "    </tr>\n",
       "    <tr>\n",
       "      <th>Favicon</th>\n",
       "      <td>0.004578</td>\n",
       "    </tr>\n",
       "    <tr>\n",
       "      <th>on_mouseover</th>\n",
       "      <td>0.003411</td>\n",
       "    </tr>\n",
       "    <tr>\n",
       "      <th>double_slash_redirecting</th>\n",
       "      <td>0.003370</td>\n",
       "    </tr>\n",
       "    <tr>\n",
       "      <th>port</th>\n",
       "      <td>0.002671</td>\n",
       "    </tr>\n",
       "    <tr>\n",
       "      <th>Iframe</th>\n",
       "      <td>0.002193</td>\n",
       "    </tr>\n",
       "    <tr>\n",
       "      <th>RightClick</th>\n",
       "      <td>0.001340</td>\n",
       "    </tr>\n",
       "  </tbody>\n",
       "</table>\n",
       "</div>"
      ],
      "text/plain": [
       "                             importance\n",
       "SSLfinal_State                 0.326228\n",
       "URL_of_Anchor                  0.245541\n",
       "web_traffic                    0.069664\n",
       "having_Sub_Domain              0.064523\n",
       "Links_in_tags                  0.043273\n",
       "Prefix_Suffix                  0.037831\n",
       "SFH                            0.020350\n",
       "Request_URL                    0.019330\n",
       "Links_pointing_to_page         0.018834\n",
       "Domain_registeration_length    0.017556\n",
       "age_of_domain                  0.015568\n",
       "having_IP_Address              0.013943\n",
       "Google_Index                   0.013890\n",
       "Page_Rank                      0.012773\n",
       "DNSRecord                      0.012760\n",
       "URL_Length                     0.008650\n",
       "HTTPS_token                    0.006443\n",
       "having_At_Symbol               0.005598\n",
       "Statistical_report             0.005176\n",
       "Redirect                       0.005142\n",
       "Submitting_to_email            0.005076\n",
       "popUpWidnow                    0.004862\n",
       "Shortining_Service             0.004792\n",
       "Abnormal_URL                   0.004636\n",
       "Favicon                        0.004578\n",
       "on_mouseover                   0.003411\n",
       "double_slash_redirecting       0.003370\n",
       "port                           0.002671\n",
       "Iframe                         0.002193\n",
       "RightClick                     0.001340"
      ]
     },
     "execution_count": 20,
     "metadata": {},
     "output_type": "execute_result"
    }
   ],
   "source": [
    "feature_importances = pd.DataFrame(rf_clf.best_estimator_.feature_importances_, index = X_train.columns,\n",
    "                                   columns=['importance']).sort_values('importance',ascending=False)\n",
    "feature_importances"
   ]
  },
  {
   "cell_type": "markdown",
   "metadata": {},
   "source": [
    "#### I'll plot out the scatter matrix of the 5 most important features."
   ]
  },
  {
   "cell_type": "code",
   "execution_count": 21,
   "metadata": {},
   "outputs": [
    {
     "data": {
      "text/plain": [
       "array([[<matplotlib.axes._subplots.AxesSubplot object at 0x000001E30BAA5438>,\n",
       "        <matplotlib.axes._subplots.AxesSubplot object at 0x000001E30BABA898>,\n",
       "        <matplotlib.axes._subplots.AxesSubplot object at 0x000001E3099A36A0>,\n",
       "        <matplotlib.axes._subplots.AxesSubplot object at 0x000001E309B77630>,\n",
       "        <matplotlib.axes._subplots.AxesSubplot object at 0x000001E30970A4A8>],\n",
       "       [<matplotlib.axes._subplots.AxesSubplot object at 0x000001E3088C8A20>,\n",
       "        <matplotlib.axes._subplots.AxesSubplot object at 0x000001E3087EF828>,\n",
       "        <matplotlib.axes._subplots.AxesSubplot object at 0x000001E30A3716D8>,\n",
       "        <matplotlib.axes._subplots.AxesSubplot object at 0x000001E30A371048>,\n",
       "        <matplotlib.axes._subplots.AxesSubplot object at 0x000001E309884F28>],\n",
       "       [<matplotlib.axes._subplots.AxesSubplot object at 0x000001E309726BA8>,\n",
       "        <matplotlib.axes._subplots.AxesSubplot object at 0x000001E309166390>,\n",
       "        <matplotlib.axes._subplots.AxesSubplot object at 0x000001E30A357E80>,\n",
       "        <matplotlib.axes._subplots.AxesSubplot object at 0x000001E30965CD30>,\n",
       "        <matplotlib.axes._subplots.AxesSubplot object at 0x000001E309A6B5C0>],\n",
       "       [<matplotlib.axes._subplots.AxesSubplot object at 0x000001E30A2612E8>,\n",
       "        <matplotlib.axes._subplots.AxesSubplot object at 0x000001E3095B8780>,\n",
       "        <matplotlib.axes._subplots.AxesSubplot object at 0x000001E3085A0A90>,\n",
       "        <matplotlib.axes._subplots.AxesSubplot object at 0x000001E308DBF550>,\n",
       "        <matplotlib.axes._subplots.AxesSubplot object at 0x000001E308F56518>],\n",
       "       [<matplotlib.axes._subplots.AxesSubplot object at 0x000001E30A1F8C50>,\n",
       "        <matplotlib.axes._subplots.AxesSubplot object at 0x000001E308FF6BE0>,\n",
       "        <matplotlib.axes._subplots.AxesSubplot object at 0x000001E308AFF2E8>,\n",
       "        <matplotlib.axes._subplots.AxesSubplot object at 0x000001E307CB0F60>,\n",
       "        <matplotlib.axes._subplots.AxesSubplot object at 0x000001E308A61710>]],\n",
       "      dtype=object)"
      ]
     },
     "execution_count": 21,
     "metadata": {},
     "output_type": "execute_result"
    },
    {
     "data": {
      "image/png": "[encoded data removed]",
      "text/plain": [
       "<Figure size 864x576 with 25 Axes>"
      ]
     },
     "metadata": {
      "needs_background": "light"
     },
     "output_type": "display_data"
    }
   ],
   "source": [
    "from pandas.plotting import scatter_matrix\n",
    "\n",
    "attributes = [\"SSLfinal_State\", \"URL_of_Anchor\", \"web_traffic\",\n",
    "              \"having_Sub_Domain\", \"Prefix_Suffix\"]\n",
    "scatter_matrix(phishingwebs[attributes], figsize=(12, 8))"
   ]
  },
  {
   "cell_type": "markdown",
   "metadata": {},
   "source": [
    "### And from here, we know that scatter matrix doesn't give us any information when it comes to symbolic data."
   ]
  },
  {
   "cell_type": "markdown",
   "metadata": {},
   "source": [
    "## Neural Network"
   ]
  },
  {
   "cell_type": "code",
   "execution_count": 22,
   "metadata": {},
   "outputs": [
    {
     "name": "stderr",
     "output_type": "stream",
     "text": [
      "Using TensorFlow backend.\n"
     ]
    }
   ],
   "source": [
    "from keras.models import Sequential, load_model\n",
    "from keras.layers.core import Dense, Activation"
   ]
  },
  {
   "cell_type": "markdown",
   "metadata": {},
   "source": [
    "#### Create the validation dataset."
   ]
  },
  {
   "cell_type": "code",
   "execution_count": 23,
   "metadata": {},
   "outputs": [],
   "source": [
    "X_train, X_val, y_train, y_val = train_test_split(X_train, y_train, test_size=0.25, random_state=42)"
   ]
  },
  {
   "cell_type": "markdown",
   "metadata": {},
   "source": [
    "#### The dataset now will be: 60% train, 20% validation, 20% test."
   ]
  },
  {
   "cell_type": "markdown",
   "metadata": {},
   "source": [
    "#### Prepare target values using 1-hot encoding. The reason is that when we use cross-entropy as a loss function, it compares one-hot encoded labels with probabilities predicted by the neural network."
   ]
  },
  {
   "cell_type": "code",
   "execution_count": 24,
   "metadata": {},
   "outputs": [],
   "source": [
    "from keras.utils import np_utils\n",
    "\n",
    "y_encoded_train = np_utils.to_categorical(y_train)\n",
    "y_encoded_val = np_utils.to_categorical(y_val)\n",
    "y_encoded_test = np_utils.to_categorical(y_test)"
   ]
  },
  {
   "cell_type": "markdown",
   "metadata": {},
   "source": [
    "#### Since the number of input feature isn't that big (only 30 features), I'll just try with 1 hidden layer first."
   ]
  },
  {
   "cell_type": "code",
   "execution_count": 25,
   "metadata": {},
   "outputs": [
    {
     "name": "stdout",
     "output_type": "stream",
     "text": [
      "WARNING:tensorflow:From C:\\Users\\julia\\Anaconda3\\lib\\site-packages\\keras\\backend\\tensorflow_backend.py:74: The name tf.get_default_graph is deprecated. Please use tf.compat.v1.get_default_graph instead.\n",
      "\n",
      "WARNING:tensorflow:From C:\\Users\\julia\\Anaconda3\\lib\\site-packages\\keras\\backend\\tensorflow_backend.py:517: The name tf.placeholder is deprecated. Please use tf.compat.v1.placeholder instead.\n",
      "\n",
      "WARNING:tensorflow:From C:\\Users\\julia\\Anaconda3\\lib\\site-packages\\keras\\backend\\tensorflow_backend.py:4138: The name tf.random_uniform is deprecated. Please use tf.random.uniform instead.\n",
      "\n"
     ]
    }
   ],
   "source": [
    "nn = Sequential()\n",
    "\n",
    "nn.add(Dense(16, input_shape=(30,)))\n",
    "nn.add(Activation('relu'))                            \n",
    "\n",
    "nn.add(Dense(2))\n",
    "nn.add(Activation('softmax'))"
   ]
  },
  {
   "cell_type": "code",
   "execution_count": 26,
   "metadata": {},
   "outputs": [
    {
     "name": "stdout",
     "output_type": "stream",
     "text": [
      "WARNING:tensorflow:From C:\\Users\\julia\\Anaconda3\\lib\\site-packages\\keras\\optimizers.py:790: The name tf.train.Optimizer is deprecated. Please use tf.compat.v1.train.Optimizer instead.\n",
      "\n",
      "WARNING:tensorflow:From C:\\Users\\julia\\Anaconda3\\lib\\site-packages\\keras\\backend\\tensorflow_backend.py:3295: The name tf.log is deprecated. Please use tf.math.log instead.\n",
      "\n"
     ]
    }
   ],
   "source": [
    "nn.compile(loss='categorical_crossentropy', metrics=['accuracy', 'precision', 'recall'], optimizer='adam')"
   ]
  },
  {
   "cell_type": "code",
   "execution_count": 27,
   "metadata": {},
   "outputs": [
    {
     "name": "stdout",
     "output_type": "stream",
     "text": [
      "WARNING:tensorflow:From C:\\Users\\julia\\Anaconda3\\lib\\site-packages\\tensorflow\\python\\ops\\math_grad.py:1250: add_dispatch_support.<locals>.wrapper (from tensorflow.python.ops.array_ops) is deprecated and will be removed in a future version.\n",
      "Instructions for updating:\n",
      "Use tf.where in 2.0, which has the same broadcast rule as np.where\n",
      "WARNING:tensorflow:From C:\\Users\\julia\\Anaconda3\\lib\\site-packages\\keras\\backend\\tensorflow_backend.py:986: The name tf.assign_add is deprecated. Please use tf.compat.v1.assign_add instead.\n",
      "\n",
      "Train on 6633 samples, validate on 2211 samples\n",
      "Epoch 1/10\n",
      " - 0s - loss: 0.8687 - acc: 0.4841 - val_loss: 0.3038 - val_acc: 0.9471\n",
      "Epoch 2/10\n",
      " - 0s - loss: 0.1700 - acc: 0.9723 - val_loss: 0.1016 - val_acc: 0.9810\n",
      "Epoch 3/10\n",
      " - 0s - loss: 0.0771 - acc: 0.9843 - val_loss: 0.0607 - val_acc: 0.9878\n",
      "Epoch 4/10\n",
      " - 0s - loss: 0.0499 - acc: 0.9904 - val_loss: 0.0422 - val_acc: 0.9932\n",
      "Epoch 5/10\n",
      " - 0s - loss: 0.0357 - acc: 0.9950 - val_loss: 0.0311 - val_acc: 0.9973\n",
      "Epoch 6/10\n",
      " - 0s - loss: 0.0264 - acc: 0.9971 - val_loss: 0.0233 - val_acc: 0.9986\n",
      "Epoch 7/10\n",
      " - 0s - loss: 0.0196 - acc: 0.9991 - val_loss: 0.0172 - val_acc: 0.9995\n",
      "Epoch 8/10\n",
      " - 0s - loss: 0.0143 - acc: 0.9994 - val_loss: 0.0125 - val_acc: 1.0000\n",
      "Epoch 9/10\n",
      " - 0s - loss: 0.0102 - acc: 0.9997 - val_loss: 0.0090 - val_acc: 1.0000\n",
      "Epoch 10/10\n",
      " - 0s - loss: 0.0075 - acc: 0.9997 - val_loss: 0.0067 - val_acc: 1.0000\n"
     ]
    },
    {
     "data": {
      "text/plain": [
       "<keras.callbacks.History at 0x1e30a0e8198>"
      ]
     },
     "execution_count": 27,
     "metadata": {},
     "output_type": "execute_result"
    }
   ],
   "source": [
    "nn.fit(X_train, y_encoded_train,\n",
    "          batch_size=128, epochs=10,\n",
    "          verbose=2,\n",
    "          validation_data=(X_val, y_encoded_val))"
   ]
  },
  {
   "cell_type": "markdown",
   "metadata": {},
   "source": [
    "#### It reaches 99.97% Accuracy score, so stopping at 1 hidden layer should be enough for this dataset."
   ]
  },
  {
   "cell_type": "code",
   "execution_count": 31,
   "metadata": {},
   "outputs": [
    {
     "name": "stdout",
     "output_type": "stream",
     "text": [
      "Test Loss 0.006576173416890031\n",
      "Test Accuracy 1.0\n"
     ]
    }
   ],
   "source": [
    "loss_and_metrics = nn.evaluate(X_test, y_encoded_test, verbose=2)\n",
    "\n",
    "print(\"Test Loss\", loss_and_metrics[0])\n",
    "print(\"Test Accuracy\", loss_and_metrics[1])\n",
    "print(\"Test Precision\", loss_and_metrics[2])\n",
    "print(\"Test Recall\", loss_and_metrics[3])"
   ]
  },
  {
   "cell_type": "markdown",
   "metadata": {},
   "source": [
    "## Conclusion"
   ]
  },
  {
   "cell_type": "markdown",
   "metadata": {},
   "source": [
    "### When it comes to this dataset, Random Forests performed better than SVM, but the best place belongs to Neural Network with 100% accuracy. However, the model that gives out the most important information for using in reality is Random Forests, because it acctually lets us know which features to investigate in order to determine whether a website is phishing or not."
   ]
  },
  {
   "cell_type": "code",
   "execution_count": null,
   "metadata": {},
   "outputs": [],
   "source": []
  }
 ],
 "metadata": {
  "_change_revision": 0,
  "_is_fork": false,
  "kernelspec": {
   "display_name": "Python 3",
   "language": "python",
   "name": "python3"
  },
  "language_info": {
   "codemirror_mode": {
    "name": "ipython",
    "version": 3
   },
   "file_extension": ".py",
   "mimetype": "text/x-python",
   "name": "python",
   "nbconvert_exporter": "python",
   "pygments_lexer": "ipython3",
   "version": "3.7.3"
  }
 },
 "nbformat": 4,
 "nbformat_minor": 4
}
