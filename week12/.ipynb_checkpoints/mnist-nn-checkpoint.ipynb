{
 "cells": [
  {
   "cell_type": "markdown",
   "metadata": {},
   "source": [
    "Example adapted from [this online post](https://nextjournal.com/gkoehler/digit-recognition-with-keras)."
   ]
  },
  {
   "cell_type": "code",
   "execution_count": 1,
   "metadata": {},
   "outputs": [
    {
     "name": "stderr",
     "output_type": "stream",
     "text": [
      "Using TensorFlow backend.\n"
     ]
    }
   ],
   "source": [
    "from keras.datasets import mnist\n",
    "from keras.utils import np_utils\n",
    "\n",
    "(X_train, y_train), (X_test, y_test) = mnist.load_data()"
   ]
  },
  {
   "cell_type": "markdown",
   "metadata": {},
   "source": [
    "reshape the data"
   ]
  },
  {
   "cell_type": "code",
   "execution_count": 2,
   "metadata": {},
   "outputs": [
    {
     "data": {
      "text/plain": [
       "784"
      ]
     },
     "execution_count": 2,
     "metadata": {},
     "output_type": "execute_result"
    }
   ],
   "source": [
    "num_training = X_train.shape[0]\n",
    "num_test = X_test.shape[0]\n",
    "width = X_train.shape[1]\n",
    "height = X_train.shape[2]\n",
    "num_pixels = width * height\n",
    "X_flat_train = X_train.reshape(X_train.shape[0], num_pixels).astype('float32')\n",
    "X_flat_test = X_test.reshape(X_test.shape[0], num_pixels).astype('float32')\n",
    "X_flat_train /= 255\n",
    "X_flat_test /= 255\n",
    "width\n",
    "height\n",
    "num_pixels"
   ]
  },
  {
   "cell_type": "code",
   "execution_count": 3,
   "metadata": {},
   "outputs": [
    {
     "data": {
      "text/plain": [
       "(60000, 784)"
      ]
     },
     "execution_count": 3,
     "metadata": {},
     "output_type": "execute_result"
    }
   ],
   "source": [
    "X_flat_train.shape"
   ]
  },
  {
   "cell_type": "code",
   "execution_count": 4,
   "metadata": {},
   "outputs": [
    {
     "data": {
      "text/plain": [
       "(10000, 784)"
      ]
     },
     "execution_count": 4,
     "metadata": {},
     "output_type": "execute_result"
    }
   ],
   "source": [
    "X_flat_test.shape"
   ]
  },
  {
   "cell_type": "markdown",
   "metadata": {},
   "source": [
    "Prepare target values using 1-hot encoding"
   ]
  },
  {
   "cell_type": "code",
   "execution_count": 5,
   "metadata": {},
   "outputs": [],
   "source": [
    "y_encoded_train = np_utils.to_categorical(y_train)\n",
    "y_encoded_test = np_utils.to_categorical(y_test)"
   ]
  },
  {
   "cell_type": "code",
   "execution_count": 6,
   "metadata": {},
   "outputs": [
    {
     "data": {
      "text/plain": [
       "(60000, 10)"
      ]
     },
     "execution_count": 6,
     "metadata": {},
     "output_type": "execute_result"
    }
   ],
   "source": [
    "y_encoded_train.shape"
   ]
  },
  {
   "cell_type": "markdown",
   "metadata": {},
   "source": [
    "build a one layer dense network"
   ]
  },
  {
   "cell_type": "code",
   "execution_count": 7,
   "metadata": {},
   "outputs": [
    {
     "name": "stdout",
     "output_type": "stream",
     "text": [
      "WARNING:tensorflow:From C:\\Users\\julia\\Anaconda3\\lib\\site-packages\\keras\\backend\\tensorflow_backend.py:74: The name tf.get_default_graph is deprecated. Please use tf.compat.v1.get_default_graph instead.\n",
      "\n",
      "WARNING:tensorflow:From C:\\Users\\julia\\Anaconda3\\lib\\site-packages\\keras\\backend\\tensorflow_backend.py:517: The name tf.placeholder is deprecated. Please use tf.compat.v1.placeholder instead.\n",
      "\n",
      "WARNING:tensorflow:From C:\\Users\\julia\\Anaconda3\\lib\\site-packages\\keras\\backend\\tensorflow_backend.py:4138: The name tf.random_uniform is deprecated. Please use tf.random.uniform instead.\n",
      "\n"
     ]
    }
   ],
   "source": [
    "from keras.models import Sequential, load_model\n",
    "from keras.layers.core import Dense, Activation\n",
    "\n",
    "model_0 = Sequential()\n",
    "\n",
    "model_0.add(Dense(512, input_shape=(784,)))\n",
    "model_0.add(Activation('sigmoid'))                            \n",
    "\n",
    "model_0.add(Dense(10))\n",
    "model_0.add(Activation('softmax'))"
   ]
  },
  {
   "cell_type": "code",
   "execution_count": 8,
   "metadata": {},
   "outputs": [
    {
     "name": "stdout",
     "output_type": "stream",
     "text": [
      "WARNING:tensorflow:From C:\\Users\\julia\\Anaconda3\\lib\\site-packages\\keras\\optimizers.py:790: The name tf.train.Optimizer is deprecated. Please use tf.compat.v1.train.Optimizer instead.\n",
      "\n",
      "WARNING:tensorflow:From C:\\Users\\julia\\Anaconda3\\lib\\site-packages\\keras\\backend\\tensorflow_backend.py:3295: The name tf.log is deprecated. Please use tf.math.log instead.\n",
      "\n"
     ]
    }
   ],
   "source": [
    "model_0.compile(loss='categorical_crossentropy', metrics=['accuracy'], optimizer='adam')"
   ]
  },
  {
   "cell_type": "code",
   "execution_count": 9,
   "metadata": {},
   "outputs": [
    {
     "name": "stdout",
     "output_type": "stream",
     "text": [
      "WARNING:tensorflow:From C:\\Users\\julia\\Anaconda3\\lib\\site-packages\\tensorflow\\python\\ops\\math_grad.py:1250: add_dispatch_support.<locals>.wrapper (from tensorflow.python.ops.array_ops) is deprecated and will be removed in a future version.\n",
      "Instructions for updating:\n",
      "Use tf.where in 2.0, which has the same broadcast rule as np.where\n",
      "WARNING:tensorflow:From C:\\Users\\julia\\Anaconda3\\lib\\site-packages\\keras\\backend\\tensorflow_backend.py:986: The name tf.assign_add is deprecated. Please use tf.compat.v1.assign_add instead.\n",
      "\n",
      "Train on 60000 samples, validate on 10000 samples\n",
      "Epoch 1/10\n",
      " - 4s - loss: 0.4405 - acc: 0.8819 - val_loss: 0.2646 - val_acc: 0.9246\n",
      "Epoch 2/10\n",
      " - 3s - loss: 0.2462 - acc: 0.9290 - val_loss: 0.2130 - val_acc: 0.9367\n",
      "Epoch 3/10\n",
      " - 3s - loss: 0.1914 - acc: 0.9455 - val_loss: 0.1714 - val_acc: 0.9487\n",
      "Epoch 4/10\n",
      " - 2s - loss: 0.1527 - acc: 0.9563 - val_loss: 0.1432 - val_acc: 0.9577\n",
      "Epoch 5/10\n",
      " - 2s - loss: 0.1246 - acc: 0.9641 - val_loss: 0.1211 - val_acc: 0.9647\n",
      "Epoch 6/10\n",
      " - 2s - loss: 0.1025 - acc: 0.9705 - val_loss: 0.1072 - val_acc: 0.9684\n",
      "Epoch 7/10\n",
      " - 2s - loss: 0.0858 - acc: 0.9761 - val_loss: 0.1032 - val_acc: 0.9679\n",
      "Epoch 8/10\n",
      " - 2s - loss: 0.0727 - acc: 0.9798 - val_loss: 0.0997 - val_acc: 0.9698\n",
      "Epoch 9/10\n",
      " - 3s - loss: 0.0610 - acc: 0.9827 - val_loss: 0.0801 - val_acc: 0.9755\n",
      "Epoch 10/10\n",
      " - 3s - loss: 0.0520 - acc: 0.9852 - val_loss: 0.0799 - val_acc: 0.9762\n"
     ]
    },
    {
     "data": {
      "text/plain": [
       "<keras.callbacks.History at 0x1a3d577d080>"
      ]
     },
     "execution_count": 9,
     "metadata": {},
     "output_type": "execute_result"
    }
   ],
   "source": [
    "model_0.fit(X_flat_train, y_encoded_train,\n",
    "          batch_size=128, epochs=10,\n",
    "          verbose=2,\n",
    "          validation_data=(X_flat_test, y_encoded_test))"
   ]
  },
  {
   "cell_type": "markdown",
   "metadata": {},
   "source": [
    "building a linear stack of densely connected layers with the sequential model from keras"
   ]
  },
  {
   "cell_type": "markdown",
   "metadata": {},
   "source": [
    "![](nn_example.png)"
   ]
  },
  {
   "cell_type": "code",
   "execution_count": 10,
   "metadata": {},
   "outputs": [],
   "source": [
    "model = Sequential()\n",
    "\n",
    "model.add(Dense(512, input_shape=(784,)))\n",
    "model.add(Activation('relu'))                            \n",
    "\n",
    "model.add(Dense(512))\n",
    "model.add(Activation('relu'))\n",
    "\n",
    "model.add(Dense(10))\n",
    "model.add(Activation('softmax'))"
   ]
  },
  {
   "cell_type": "code",
   "execution_count": 11,
   "metadata": {},
   "outputs": [],
   "source": [
    "# compiling the sequential model\n",
    "model.compile(loss='categorical_crossentropy', metrics=['accuracy'], optimizer='adam')"
   ]
  },
  {
   "cell_type": "code",
   "execution_count": 12,
   "metadata": {},
   "outputs": [
    {
     "name": "stdout",
     "output_type": "stream",
     "text": [
      "Train on 60000 samples, validate on 10000 samples\n",
      "Epoch 1/10\n",
      " - 8s - loss: 0.2172 - acc: 0.9363 - val_loss: 0.0964 - val_acc: 0.9693\n",
      "Epoch 2/10\n",
      " - 6s - loss: 0.0774 - acc: 0.9761 - val_loss: 0.0900 - val_acc: 0.9718\n",
      "Epoch 3/10\n",
      " - 4s - loss: 0.0497 - acc: 0.9842 - val_loss: 0.0700 - val_acc: 0.9774\n",
      "Epoch 4/10\n",
      " - 4s - loss: 0.0335 - acc: 0.9889 - val_loss: 0.0679 - val_acc: 0.9801\n",
      "Epoch 5/10\n",
      " - 5s - loss: 0.0276 - acc: 0.9915 - val_loss: 0.0646 - val_acc: 0.9804\n",
      "Epoch 6/10\n",
      " - 5s - loss: 0.0213 - acc: 0.9927 - val_loss: 0.0719 - val_acc: 0.9804\n",
      "Epoch 7/10\n",
      " - 5s - loss: 0.0197 - acc: 0.9934 - val_loss: 0.0773 - val_acc: 0.9771\n",
      "Epoch 8/10\n",
      " - 6s - loss: 0.0165 - acc: 0.9944 - val_loss: 0.0808 - val_acc: 0.9795\n",
      "Epoch 9/10\n",
      " - 4s - loss: 0.0146 - acc: 0.9947 - val_loss: 0.0769 - val_acc: 0.9799\n",
      "Epoch 10/10\n",
      " - 4s - loss: 0.0115 - acc: 0.9963 - val_loss: 0.0861 - val_acc: 0.9798\n"
     ]
    },
    {
     "data": {
      "text/plain": [
       "<keras.callbacks.History at 0x1a3fce45c50>"
      ]
     },
     "execution_count": 12,
     "metadata": {},
     "output_type": "execute_result"
    }
   ],
   "source": [
    "model.fit(X_flat_train, y_encoded_train,\n",
    "          batch_size=128, epochs=10,\n",
    "          verbose=2,\n",
    "          validation_data=(X_flat_test, y_encoded_test))"
   ]
  },
  {
   "cell_type": "markdown",
   "metadata": {},
   "source": [
    "Compute model accuracy on the 10,000 testing examples "
   ]
  },
  {
   "cell_type": "code",
   "execution_count": 13,
   "metadata": {},
   "outputs": [
    {
     "name": "stdout",
     "output_type": "stream",
     "text": [
      "Test Loss 0.08612696663259085\n",
      "Test Accuracy 0.9798\n"
     ]
    }
   ],
   "source": [
    "loss_and_metrics = model.evaluate(X_flat_test, y_encoded_test, verbose=2)\n",
    "\n",
    "print(\"Test Loss\", loss_and_metrics[0])\n",
    "print(\"Test Accuracy\", loss_and_metrics[1])"
   ]
  },
  {
   "cell_type": "markdown",
   "metadata": {},
   "source": [
    "To save a trained model: we save its structure and its weights."
   ]
  },
  {
   "cell_type": "code",
   "execution_count": 16,
   "metadata": {},
   "outputs": [],
   "source": [
    "# open('mnist_simple_ann_model_structure.json', 'w').write(model.to_json())\n",
    "# model.save_weights('mnist_simple_ann_model_weights.h5')\n",
    "# model.save('mnist_simple_ann.h5')"
   ]
  },
  {
   "cell_type": "markdown",
   "metadata": {},
   "source": [
    "Load saved model"
   ]
  },
  {
   "cell_type": "code",
   "execution_count": 17,
   "metadata": {},
   "outputs": [],
   "source": [
    "# from keras.models import model_from_json\n",
    "# model = model_from_json(open('mnist_simple_ann_model_structure.json').read())\n",
    "# model.load_weights('mnist_simple_ann_model_weights.h5')\n",
    "#new_model = load_model('mnist_simple_ann.h5')"
   ]
  },
  {
   "cell_type": "code",
   "execution_count": null,
   "metadata": {},
   "outputs": [],
   "source": []
  }
 ],
 "metadata": {
  "kernelspec": {
   "display_name": "Python 3",
   "language": "python",
   "name": "python3"
  },
  "language_info": {
   "codemirror_mode": {
    "name": "ipython",
    "version": 3
   },
   "file_extension": ".py",
   "mimetype": "text/x-python",
   "name": "python",
   "nbconvert_exporter": "python",
   "pygments_lexer": "ipython3",
   "version": "3.7.3"
  }
 },
 "nbformat": 4,
 "nbformat_minor": 4
}
